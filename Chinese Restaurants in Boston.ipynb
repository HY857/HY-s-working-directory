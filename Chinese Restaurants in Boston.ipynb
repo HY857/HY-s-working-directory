{
 "cells": [
  {
   "cell_type": "markdown",
   "metadata": {},
   "source": [
    "# Exploring Chinese Restaurants in Boston"
   ]
  },
  {
   "cell_type": "markdown",
   "metadata": {},
   "source": [
    "In this project, I will explore Chinese restaurants in NYC using Yelp's Fusion API."
   ]
  },
  {
   "cell_type": "markdown",
   "metadata": {},
   "source": [
    "## Loading Data"
   ]
  },
  {
   "cell_type": "code",
   "execution_count": 1,
   "metadata": {},
   "outputs": [],
   "source": [
    "# import necessary libraries\n",
    "import requests\n",
    "import json\n",
    "import folium\n",
    "import pandas as pd\n",
    "import time\n",
    "import matplotlib.pyplot as plt\n",
    "import seaborn as sns\n",
    "sns.set()"
   ]
  },
  {
   "cell_type": "code",
   "execution_count": 2,
   "metadata": {},
   "outputs": [],
   "source": [
    "# define function to securely access api_key\n",
    "def get_key(path):\n",
    "    with open(path) as f:\n",
    "        return json.load(f)"
   ]
  },
  {
   "cell_type": "code",
   "execution_count": 3,
   "metadata": {},
   "outputs": [],
   "source": [
    "api_key = get_key(\"/Users/yuhaoyang/.secret/yyy.json\")['API_key']"
   ]
  },
  {
   "cell_type": "code",
   "execution_count": 4,
   "metadata": {},
   "outputs": [],
   "source": [
    "# Set necessary parameters\n",
    "term = \"Chinese food\"\n",
    "location = \"Boston\"\n",
    "limit = 50\n",
    "url = \"https://api.yelp.com/v3/businesses/search\"\n",
    "headers = {\n",
    "        'Authorization': f'Bearer {api_key}',\n",
    "    }\n",
    "url_params = {'term': term.replace(\" \",\"+\"),\n",
    "             'location': location.replace(\" \",\"+\"),\n",
    "             'limit': limit}"
   ]
  },
  {
   "cell_type": "code",
   "execution_count": 5,
   "metadata": {
    "scrolled": true
   },
   "outputs": [
    {
     "name": "stdout",
     "output_type": "stream",
     "text": [
      "200\n",
      "<class 'dict'>\n"
     ]
    }
   ],
   "source": [
    "response = requests.get(url, headers=headers, params = url_params)\n",
    "print(response.status_code)\n",
    "data = response.json()\n",
    "print(type(data))"
   ]
  },
  {
   "cell_type": "code",
   "execution_count": 6,
   "metadata": {
    "scrolled": true
   },
   "outputs": [
    {
     "data": {
      "text/plain": [
       "dict_keys(['businesses', 'total', 'region'])"
      ]
     },
     "execution_count": 6,
     "metadata": {},
     "output_type": "execute_result"
    }
   ],
   "source": [
    "data.keys()"
   ]
  },
  {
   "cell_type": "code",
   "execution_count": 7,
   "metadata": {
    "scrolled": false
   },
   "outputs": [
    {
     "data": {
      "text/plain": [
       "964"
      ]
     },
     "execution_count": 7,
     "metadata": {},
     "output_type": "execute_result"
    }
   ],
   "source": [
    "data['total']"
   ]
  },
  {
   "cell_type": "code",
   "execution_count": 8,
   "metadata": {
    "scrolled": true
   },
   "outputs": [
    {
     "data": {
      "text/plain": [
       "{'center': {'longitude': -71.07124328613281, 'latitude': 42.34784169448538}}"
      ]
     },
     "execution_count": 8,
     "metadata": {},
     "output_type": "execute_result"
    }
   ],
   "source": [
    "data['region']"
   ]
  },
  {
   "cell_type": "markdown",
   "metadata": {},
   "source": [
    "### Let's check where the map center is!"
   ]
  },
  {
   "cell_type": "code",
   "execution_count": 9,
   "metadata": {},
   "outputs": [],
   "source": [
    "long, lat = data['region']['center']['longitude'],data['region']['center']['latitude']"
   ]
  },
  {
   "cell_type": "code",
   "execution_count": 10,
   "metadata": {},
   "outputs": [
    {
     "data": {
      "text/plain": [
       "(-71.07124328613281, 42.34784169448538)"
      ]
     },
     "execution_count": 10,
     "metadata": {},
     "output_type": "execute_result"
    }
   ],
   "source": [
    "long, lat"
   ]
  },
  {
   "cell_type": "code",
   "execution_count": 11,
   "metadata": {},
   "outputs": [
    {
     "data": {
      "text/plain": [
       "<folium.map.Marker at 0x1a25ea9048>"
      ]
     },
     "execution_count": 11,
     "metadata": {},
     "output_type": "execute_result"
    }
   ],
   "source": [
    "nyc_map = folium.Map(location=[lat,long], zoom_start=14, tiles='cartodbpositron')\n",
    "marker = folium.Marker(location = [lat,long])\n",
    "marker.add_to(nyc_map)"
   ]
  },
  {
   "cell_type": "code",
   "execution_count": 12,
   "metadata": {
    "scrolled": true
   },
   "outputs": [
    {
     "data": {
      "text/html": [
       "<div style=\"width:100%;\"><div style=\"position:relative;width:100%;height:0;padding-bottom:60%;\"><iframe src=\"data:text/html;charset=utf-8;base64,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\" style=\"position:absolute;width:100%;height:100%;left:0;top:0;border:none !important;\" allowfullscreen webkitallowfullscreen mozallowfullscreen></iframe></div></div>"
      ],
      "text/plain": [
       "<folium.folium.Map at 0x1a25ea9080>"
      ]
     },
     "execution_count": 12,
     "metadata": {},
     "output_type": "execute_result"
    }
   ],
   "source": [
    "nyc_map"
   ]
  },
  {
   "cell_type": "markdown",
   "metadata": {},
   "source": [
    "Right around Chinatown!!"
   ]
  },
  {
   "cell_type": "markdown",
   "metadata": {},
   "source": [
    "### Now, let's keep working on retrieving our data"
   ]
  },
  {
   "cell_type": "code",
   "execution_count": 13,
   "metadata": {},
   "outputs": [
    {
     "data": {
      "text/plain": [
       "50"
      ]
     },
     "execution_count": 13,
     "metadata": {},
     "output_type": "execute_result"
    }
   ],
   "source": [
    "len(data['businesses'])"
   ]
  },
  {
   "cell_type": "code",
   "execution_count": 14,
   "metadata": {
    "scrolled": true
   },
   "outputs": [
    {
     "data": {
      "text/plain": [
       "list"
      ]
     },
     "execution_count": 14,
     "metadata": {},
     "output_type": "execute_result"
    }
   ],
   "source": [
    "type(data['businesses'])"
   ]
  },
  {
   "cell_type": "markdown",
   "metadata": {},
   "source": [
    "Due to Yelp API's restrictions, we can only load 50 entries at one time and total access cannot exceed 1000. Therfore, let's import all data by pagination (recursively loading the data and adding it to our dataframe!) while obeying these rules."
   ]
  },
  {
   "cell_type": "markdown",
   "metadata": {},
   "source": [
    "In order to load all the data, we set returned entries for each query to the greatest integer divisor (4 in our case) of total number of entries. "
   ]
  },
  {
   "cell_type": "code",
   "execution_count": 15,
   "metadata": {},
   "outputs": [],
   "source": [
    "def all_results(url_params, api_key):\n",
    "    total_num = response.json()['total']\n",
    "    print(f'There are {total_num} Chinese restaurants in Boston.\\nLoading all entries')\n",
    "    curr = 0\n",
    "    dfs = []\n",
    "    url = 'https://api.yelp.com/v3/businesses/search'\n",
    "    headers = {'Authorization': f'Bearer {api_key}'}\n",
    "    url_params['limit'] = limit\n",
    "    while curr < total_num:\n",
    "        url_params['offset'] = curr\n",
    "        req = requests.get(url, headers=headers, params=url_params)\n",
    "        dfs.append(pd.DataFrame(req.json()['businesses']))\n",
    "        time.sleep(1) #Wait a second\n",
    "        curr += limit\n",
    "    df = pd.concat(dfs, ignore_index=True)\n",
    "    return df\n"
   ]
  },
  {
   "cell_type": "code",
   "execution_count": 198,
   "metadata": {
    "scrolled": true
   },
   "outputs": [
    {
     "name": "stdout",
     "output_type": "stream",
     "text": [
      "There are 964 Chinese restaurants in Boston.\n",
      "Loading all entries\n"
     ]
    }
   ],
   "source": [
    "df = all_results(url_params, api_key)"
   ]
  },
  {
   "cell_type": "code",
   "execution_count": 178,
   "metadata": {
    "scrolled": true
   },
   "outputs": [
    {
     "data": {
      "text/html": [
       "<div>\n",
       "<style scoped>\n",
       "    .dataframe tbody tr th:only-of-type {\n",
       "        vertical-align: middle;\n",
       "    }\n",
       "\n",
       "    .dataframe tbody tr th {\n",
       "        vertical-align: top;\n",
       "    }\n",
       "\n",
       "    .dataframe thead th {\n",
       "        text-align: right;\n",
       "    }\n",
       "</style>\n",
       "<table border=\"1\" class=\"dataframe\">\n",
       "  <thead>\n",
       "    <tr style=\"text-align: right;\">\n",
       "      <th></th>\n",
       "      <th>alias</th>\n",
       "      <th>categories</th>\n",
       "      <th>coordinates</th>\n",
       "      <th>display_phone</th>\n",
       "      <th>distance</th>\n",
       "      <th>id</th>\n",
       "      <th>image_url</th>\n",
       "      <th>is_closed</th>\n",
       "      <th>location</th>\n",
       "      <th>name</th>\n",
       "      <th>phone</th>\n",
       "      <th>price</th>\n",
       "      <th>rating</th>\n",
       "      <th>review_count</th>\n",
       "      <th>transactions</th>\n",
       "      <th>url</th>\n",
       "    </tr>\n",
       "  </thead>\n",
       "  <tbody>\n",
       "    <tr>\n",
       "      <th>0</th>\n",
       "      <td>hot-eastern-boston-2</td>\n",
       "      <td>[{'alias': 'szechuan', 'title': 'Szechuan'}]</td>\n",
       "      <td>{'latitude': 42.35161, 'longitude': -71.06095}</td>\n",
       "      <td>(617) 988-0660</td>\n",
       "      <td>945.433806</td>\n",
       "      <td>6yPo1VyadJozt8KBTOhPdQ</td>\n",
       "      <td>https://s3-media4.fl.yelpcdn.com/bphoto/w1mEf8...</td>\n",
       "      <td>False</td>\n",
       "      <td>{'address1': '42 Beach St', 'address2': 'Ste B...</td>\n",
       "      <td>Hot Eastern</td>\n",
       "      <td>+16179880660</td>\n",
       "      <td>$$</td>\n",
       "      <td>4.0</td>\n",
       "      <td>217</td>\n",
       "      <td>[delivery, pickup]</td>\n",
       "      <td>https://www.yelp.com/biz/hot-eastern-boston-2?...</td>\n",
       "    </tr>\n",
       "    <tr>\n",
       "      <th>1</th>\n",
       "      <td>q-restaurant-boston</td>\n",
       "      <td>[{'alias': 'chinese', 'title': 'Chinese'}, {'a...</td>\n",
       "      <td>{'latitude': 42.3517075922991, 'longitude': -7...</td>\n",
       "      <td>(857) 350-3968</td>\n",
       "      <td>832.975637</td>\n",
       "      <td>kb0VfKZKHHhvDze3JZqi0Q</td>\n",
       "      <td>https://s3-media1.fl.yelpcdn.com/bphoto/FtV5lG...</td>\n",
       "      <td>False</td>\n",
       "      <td>{'address1': '660 Washington St', 'address2': ...</td>\n",
       "      <td>Q Restaurant</td>\n",
       "      <td>+18573503968</td>\n",
       "      <td>$$</td>\n",
       "      <td>4.0</td>\n",
       "      <td>939</td>\n",
       "      <td>[delivery]</td>\n",
       "      <td>https://www.yelp.com/biz/q-restaurant-boston?a...</td>\n",
       "    </tr>\n",
       "    <tr>\n",
       "      <th>2</th>\n",
       "      <td>clay-pot-cafe-boston</td>\n",
       "      <td>[{'alias': 'cantonese', 'title': 'Cantonese'}]</td>\n",
       "      <td>{'latitude': 42.3504982, 'longitude': -71.0604...</td>\n",
       "      <td>(617) 357-5262</td>\n",
       "      <td>934.491678</td>\n",
       "      <td>wOsTAvCIVjB-fPQBJepMQg</td>\n",
       "      <td>https://s3-media2.fl.yelpcdn.com/bphoto/EHXu_x...</td>\n",
       "      <td>False</td>\n",
       "      <td>{'address1': '74 Kneeland St', 'address2': '',...</td>\n",
       "      <td>Clay Pot Cafe</td>\n",
       "      <td>+16173575262</td>\n",
       "      <td>$</td>\n",
       "      <td>4.0</td>\n",
       "      <td>273</td>\n",
       "      <td>[]</td>\n",
       "      <td>https://www.yelp.com/biz/clay-pot-cafe-boston?...</td>\n",
       "    </tr>\n",
       "    <tr>\n",
       "      <th>3</th>\n",
       "      <td>myers-and-chang-boston</td>\n",
       "      <td>[{'alias': 'asianfusion', 'title': 'Asian Fusi...</td>\n",
       "      <td>{'latitude': 42.3438187315924, 'longitude': -7...</td>\n",
       "      <td>(617) 542-5200</td>\n",
       "      <td>607.031423</td>\n",
       "      <td>72PQGMhrEcIuWH-S44TprA</td>\n",
       "      <td>https://s3-media2.fl.yelpcdn.com/bphoto/ZGXvH3...</td>\n",
       "      <td>False</td>\n",
       "      <td>{'address1': '1145 Washington St', 'address2':...</td>\n",
       "      <td>Myers &amp; Chang</td>\n",
       "      <td>+16175425200</td>\n",
       "      <td>$$</td>\n",
       "      <td>4.0</td>\n",
       "      <td>1586</td>\n",
       "      <td>[pickup]</td>\n",
       "      <td>https://www.yelp.com/biz/myers-and-chang-bosto...</td>\n",
       "    </tr>\n",
       "    <tr>\n",
       "      <th>4</th>\n",
       "      <td>chinatown-cafe-boston</td>\n",
       "      <td>[{'alias': 'chinese', 'title': 'Chinese'}]</td>\n",
       "      <td>{'latitude': 42.3475899, 'longitude': -71.06207}</td>\n",
       "      <td>(617) 695-9888</td>\n",
       "      <td>712.949047</td>\n",
       "      <td>g3OJi94JTYhIoEwqNfhI8g</td>\n",
       "      <td>https://s3-media1.fl.yelpcdn.com/bphoto/VyTsC8...</td>\n",
       "      <td>False</td>\n",
       "      <td>{'address1': '262 Harrison Ave', 'address2': '...</td>\n",
       "      <td>Chinatown Cafe</td>\n",
       "      <td>+16176959888</td>\n",
       "      <td>$</td>\n",
       "      <td>4.0</td>\n",
       "      <td>168</td>\n",
       "      <td>[]</td>\n",
       "      <td>https://www.yelp.com/biz/chinatown-cafe-boston...</td>\n",
       "    </tr>\n",
       "  </tbody>\n",
       "</table>\n",
       "</div>"
      ],
      "text/plain": [
       "                    alias                                         categories  \\\n",
       "0    hot-eastern-boston-2       [{'alias': 'szechuan', 'title': 'Szechuan'}]   \n",
       "1     q-restaurant-boston  [{'alias': 'chinese', 'title': 'Chinese'}, {'a...   \n",
       "2    clay-pot-cafe-boston     [{'alias': 'cantonese', 'title': 'Cantonese'}]   \n",
       "3  myers-and-chang-boston  [{'alias': 'asianfusion', 'title': 'Asian Fusi...   \n",
       "4   chinatown-cafe-boston         [{'alias': 'chinese', 'title': 'Chinese'}]   \n",
       "\n",
       "                                         coordinates   display_phone  \\\n",
       "0     {'latitude': 42.35161, 'longitude': -71.06095}  (617) 988-0660   \n",
       "1  {'latitude': 42.3517075922991, 'longitude': -7...  (857) 350-3968   \n",
       "2  {'latitude': 42.3504982, 'longitude': -71.0604...  (617) 357-5262   \n",
       "3  {'latitude': 42.3438187315924, 'longitude': -7...  (617) 542-5200   \n",
       "4   {'latitude': 42.3475899, 'longitude': -71.06207}  (617) 695-9888   \n",
       "\n",
       "     distance                      id  \\\n",
       "0  945.433806  6yPo1VyadJozt8KBTOhPdQ   \n",
       "1  832.975637  kb0VfKZKHHhvDze3JZqi0Q   \n",
       "2  934.491678  wOsTAvCIVjB-fPQBJepMQg   \n",
       "3  607.031423  72PQGMhrEcIuWH-S44TprA   \n",
       "4  712.949047  g3OJi94JTYhIoEwqNfhI8g   \n",
       "\n",
       "                                           image_url  is_closed  \\\n",
       "0  https://s3-media4.fl.yelpcdn.com/bphoto/w1mEf8...      False   \n",
       "1  https://s3-media1.fl.yelpcdn.com/bphoto/FtV5lG...      False   \n",
       "2  https://s3-media2.fl.yelpcdn.com/bphoto/EHXu_x...      False   \n",
       "3  https://s3-media2.fl.yelpcdn.com/bphoto/ZGXvH3...      False   \n",
       "4  https://s3-media1.fl.yelpcdn.com/bphoto/VyTsC8...      False   \n",
       "\n",
       "                                            location            name  \\\n",
       "0  {'address1': '42 Beach St', 'address2': 'Ste B...     Hot Eastern   \n",
       "1  {'address1': '660 Washington St', 'address2': ...    Q Restaurant   \n",
       "2  {'address1': '74 Kneeland St', 'address2': '',...   Clay Pot Cafe   \n",
       "3  {'address1': '1145 Washington St', 'address2':...   Myers & Chang   \n",
       "4  {'address1': '262 Harrison Ave', 'address2': '...  Chinatown Cafe   \n",
       "\n",
       "          phone price  rating  review_count        transactions  \\\n",
       "0  +16179880660    $$     4.0           217  [delivery, pickup]   \n",
       "1  +18573503968    $$     4.0           939          [delivery]   \n",
       "2  +16173575262     $     4.0           273                  []   \n",
       "3  +16175425200    $$     4.0          1586            [pickup]   \n",
       "4  +16176959888     $     4.0           168                  []   \n",
       "\n",
       "                                                 url  \n",
       "0  https://www.yelp.com/biz/hot-eastern-boston-2?...  \n",
       "1  https://www.yelp.com/biz/q-restaurant-boston?a...  \n",
       "2  https://www.yelp.com/biz/clay-pot-cafe-boston?...  \n",
       "3  https://www.yelp.com/biz/myers-and-chang-bosto...  \n",
       "4  https://www.yelp.com/biz/chinatown-cafe-boston...  "
      ]
     },
     "execution_count": 178,
     "metadata": {},
     "output_type": "execute_result"
    }
   ],
   "source": [
    "df.head()"
   ]
  },
  {
   "cell_type": "markdown",
   "metadata": {},
   "source": [
    "Looking neat!"
   ]
  },
  {
   "cell_type": "markdown",
   "metadata": {},
   "source": [
    "## Preprocessing Data"
   ]
  },
  {
   "cell_type": "code",
   "execution_count": 18,
   "metadata": {
    "scrolled": true
   },
   "outputs": [
    {
     "name": "stdout",
     "output_type": "stream",
     "text": [
      "<class 'pandas.core.frame.DataFrame'>\n",
      "RangeIndex: 950 entries, 0 to 949\n",
      "Data columns (total 16 columns):\n",
      "alias            950 non-null object\n",
      "categories       950 non-null object\n",
      "coordinates      950 non-null object\n",
      "display_phone    950 non-null object\n",
      "distance         950 non-null float64\n",
      "id               950 non-null object\n",
      "image_url        950 non-null object\n",
      "is_closed        950 non-null bool\n",
      "location         950 non-null object\n",
      "name             950 non-null object\n",
      "phone            950 non-null object\n",
      "price            886 non-null object\n",
      "rating           950 non-null float64\n",
      "review_count     950 non-null int64\n",
      "transactions     950 non-null object\n",
      "url              950 non-null object\n",
      "dtypes: bool(1), float64(2), int64(1), object(12)\n",
      "memory usage: 112.3+ KB\n"
     ]
    }
   ],
   "source": [
    "df.info()"
   ]
  },
  {
   "cell_type": "code",
   "execution_count": 19,
   "metadata": {
    "scrolled": true
   },
   "outputs": [
    {
     "name": "stdout",
     "output_type": "stream",
     "text": [
      "there are 895 restaurants\n",
      "there are 950 restaurant names\n"
     ]
    }
   ],
   "source": [
    "print(f'there are {df.name.nunique()} restaurants')\n",
    "print(f'there are {df.alias.nunique()} restaurant names')"
   ]
  },
  {
   "cell_type": "code",
   "execution_count": 20,
   "metadata": {
    "scrolled": false
   },
   "outputs": [
    {
     "data": {
      "text/plain": [
       "Legal Sea Foods           6\n",
       "Panda Express             5\n",
       "Master Wok                4\n",
       "Bon Me                    3\n",
       "Flaming Grill & Buffet    3\n",
       "Dragon Chef               3\n",
       "Ruby Thai Kitchen         3\n",
       "China Garden              2\n",
       "Dumpling House            2\n",
       "Sichuan Gourmet           2\n",
       "Name: name, dtype: int64"
      ]
     },
     "execution_count": 20,
     "metadata": {},
     "output_type": "execute_result"
    }
   ],
   "source": [
    "df.name.value_counts()[:10]"
   ]
  },
  {
   "cell_type": "markdown",
   "metadata": {},
   "source": [
    "Let's check for missing values!"
   ]
  },
  {
   "cell_type": "code",
   "execution_count": 81,
   "metadata": {
    "scrolled": false
   },
   "outputs": [
    {
     "data": {
      "text/plain": [
       "[('alias', 0),\n",
       " ('categories', 0),\n",
       " ('coordinates', 0),\n",
       " ('display_phone', 0),\n",
       " ('distance', 0),\n",
       " ('id', 0),\n",
       " ('image_url', 0),\n",
       " ('is_closed', 0),\n",
       " ('location', 0),\n",
       " ('name', 0),\n",
       " ('phone', 0),\n",
       " ('price', 64),\n",
       " ('rating', 0),\n",
       " ('review_count', 0),\n",
       " ('transactions', 0),\n",
       " ('url', 0)]"
      ]
     },
     "execution_count": 81,
     "metadata": {},
     "output_type": "execute_result"
    }
   ],
   "source": [
    "[(x, df[x].isnull().sum()) for x in df.columns]"
   ]
  },
  {
   "cell_type": "code",
   "execution_count": 82,
   "metadata": {},
   "outputs": [],
   "source": [
    "food_price = df.price[df.price.isnull() == False]"
   ]
  },
  {
   "cell_type": "markdown",
   "metadata": {},
   "source": [
    "This is dumb. Since the string \"$$\" raises an exception in Python, we have to replace it with something else. I'll use \"Y\"."
   ]
  },
  {
   "cell_type": "code",
   "execution_count": 83,
   "metadata": {},
   "outputs": [],
   "source": [
    "food_price = pd.Series([x.replace(\"$\",\"Y\") for x in food_price])"
   ]
  },
  {
   "cell_type": "code",
   "execution_count": 99,
   "metadata": {},
   "outputs": [
    {
     "data": {
      "image/png": "[encoded data removed]",
      "text/plain": [
       "<Figure size 432x288 with 1 Axes>"
      ]
     },
     "metadata": {
      "needs_background": "light"
     },
     "output_type": "display_data"
    }
   ],
   "source": [
    "#Plot price with labeling\n",
    "cplot = sns.countplot(food_price)\n",
    "plt.xlabel('price')\n",
    "for i in cplot.patches:\n",
    "    cplot.annotate(f'{i.get_height()}',(i.get_x() + i.get_width() / 2., i.get_height()))"
   ]
  },
  {
   "cell_type": "code",
   "execution_count": 127,
   "metadata": {},
   "outputs": [],
   "source": [
    "df = df[df.review_count>20].drop(['phone','display_phone'], axis = 1)"
   ]
  },
  {
   "cell_type": "code",
   "execution_count": 131,
   "metadata": {},
   "outputs": [],
   "source": [
    "df.drop(['transactions','url','id','image_url'], inplace = True, axis = 1)"
   ]
  },
  {
   "cell_type": "code",
   "execution_count": 201,
   "metadata": {},
   "outputs": [],
   "source": [
    "df.price.fillna(\"\", inplace = True)"
   ]
  },
  {
   "cell_type": "code",
   "execution_count": 203,
   "metadata": {},
   "outputs": [],
   "source": [
    "def change_val(x):\n",
    "    return len(x)"
   ]
  },
  {
   "cell_type": "code",
   "execution_count": 204,
   "metadata": {},
   "outputs": [],
   "source": [
    "df.price = df.price.apply(lambda x: len(x))"
   ]
  },
  {
   "cell_type": "code",
   "execution_count": 206,
   "metadata": {},
   "outputs": [
    {
     "data": {
      "text/html": [
       "<div>\n",
       "<style scoped>\n",
       "    .dataframe tbody tr th:only-of-type {\n",
       "        vertical-align: middle;\n",
       "    }\n",
       "\n",
       "    .dataframe tbody tr th {\n",
       "        vertical-align: top;\n",
       "    }\n",
       "\n",
       "    .dataframe thead th {\n",
       "        text-align: right;\n",
       "    }\n",
       "</style>\n",
       "<table border=\"1\" class=\"dataframe\">\n",
       "  <thead>\n",
       "    <tr style=\"text-align: right;\">\n",
       "      <th></th>\n",
       "      <th>alias</th>\n",
       "      <th>categories</th>\n",
       "      <th>coordinates</th>\n",
       "      <th>display_phone</th>\n",
       "      <th>distance</th>\n",
       "      <th>id</th>\n",
       "      <th>image_url</th>\n",
       "      <th>is_closed</th>\n",
       "      <th>location</th>\n",
       "      <th>name</th>\n",
       "      <th>phone</th>\n",
       "      <th>price</th>\n",
       "      <th>rating</th>\n",
       "      <th>review_count</th>\n",
       "      <th>transactions</th>\n",
       "      <th>url</th>\n",
       "    </tr>\n",
       "  </thead>\n",
       "  <tbody>\n",
       "    <tr>\n",
       "      <th>0</th>\n",
       "      <td>hot-eastern-boston-2</td>\n",
       "      <td>[{'alias': 'szechuan', 'title': 'Szechuan'}]</td>\n",
       "      <td>{'latitude': 42.35161, 'longitude': -71.06095}</td>\n",
       "      <td>(617) 988-0660</td>\n",
       "      <td>945.433806</td>\n",
       "      <td>6yPo1VyadJozt8KBTOhPdQ</td>\n",
       "      <td>https://s3-media4.fl.yelpcdn.com/bphoto/w1mEf8...</td>\n",
       "      <td>False</td>\n",
       "      <td>{'address1': '42 Beach St', 'address2': 'Ste B...</td>\n",
       "      <td>Hot Eastern</td>\n",
       "      <td>+16179880660</td>\n",
       "      <td>2</td>\n",
       "      <td>4.0</td>\n",
       "      <td>217</td>\n",
       "      <td>[pickup, delivery]</td>\n",
       "      <td>https://www.yelp.com/biz/hot-eastern-boston-2?...</td>\n",
       "    </tr>\n",
       "    <tr>\n",
       "      <th>1</th>\n",
       "      <td>q-restaurant-boston</td>\n",
       "      <td>[{'alias': 'chinese', 'title': 'Chinese'}, {'a...</td>\n",
       "      <td>{'latitude': 42.3517075922991, 'longitude': -7...</td>\n",
       "      <td>(857) 350-3968</td>\n",
       "      <td>832.975637</td>\n",
       "      <td>kb0VfKZKHHhvDze3JZqi0Q</td>\n",
       "      <td>https://s3-media1.fl.yelpcdn.com/bphoto/FtV5lG...</td>\n",
       "      <td>False</td>\n",
       "      <td>{'address1': '660 Washington St', 'address2': ...</td>\n",
       "      <td>Q Restaurant</td>\n",
       "      <td>+18573503968</td>\n",
       "      <td>2</td>\n",
       "      <td>4.0</td>\n",
       "      <td>939</td>\n",
       "      <td>[delivery]</td>\n",
       "      <td>https://www.yelp.com/biz/q-restaurant-boston?a...</td>\n",
       "    </tr>\n",
       "    <tr>\n",
       "      <th>2</th>\n",
       "      <td>clay-pot-cafe-boston</td>\n",
       "      <td>[{'alias': 'cantonese', 'title': 'Cantonese'}]</td>\n",
       "      <td>{'latitude': 42.3504982, 'longitude': -71.0604...</td>\n",
       "      <td>(617) 357-5262</td>\n",
       "      <td>934.491678</td>\n",
       "      <td>wOsTAvCIVjB-fPQBJepMQg</td>\n",
       "      <td>https://s3-media2.fl.yelpcdn.com/bphoto/EHXu_x...</td>\n",
       "      <td>False</td>\n",
       "      <td>{'address1': '74 Kneeland St', 'address2': '',...</td>\n",
       "      <td>Clay Pot Cafe</td>\n",
       "      <td>+16173575262</td>\n",
       "      <td>1</td>\n",
       "      <td>4.0</td>\n",
       "      <td>273</td>\n",
       "      <td>[]</td>\n",
       "      <td>https://www.yelp.com/biz/clay-pot-cafe-boston?...</td>\n",
       "    </tr>\n",
       "    <tr>\n",
       "      <th>3</th>\n",
       "      <td>myers-and-chang-boston</td>\n",
       "      <td>[{'alias': 'asianfusion', 'title': 'Asian Fusi...</td>\n",
       "      <td>{'latitude': 42.3438187315924, 'longitude': -7...</td>\n",
       "      <td>(617) 542-5200</td>\n",
       "      <td>607.031423</td>\n",
       "      <td>72PQGMhrEcIuWH-S44TprA</td>\n",
       "      <td>https://s3-media2.fl.yelpcdn.com/bphoto/ZGXvH3...</td>\n",
       "      <td>False</td>\n",
       "      <td>{'address1': '1145 Washington St', 'address2':...</td>\n",
       "      <td>Myers &amp; Chang</td>\n",
       "      <td>+16175425200</td>\n",
       "      <td>2</td>\n",
       "      <td>4.0</td>\n",
       "      <td>1586</td>\n",
       "      <td>[pickup]</td>\n",
       "      <td>https://www.yelp.com/biz/myers-and-chang-bosto...</td>\n",
       "    </tr>\n",
       "    <tr>\n",
       "      <th>4</th>\n",
       "      <td>chinatown-cafe-boston</td>\n",
       "      <td>[{'alias': 'chinese', 'title': 'Chinese'}]</td>\n",
       "      <td>{'latitude': 42.3475899, 'longitude': -71.06207}</td>\n",
       "      <td>(617) 695-9888</td>\n",
       "      <td>712.949047</td>\n",
       "      <td>g3OJi94JTYhIoEwqNfhI8g</td>\n",
       "      <td>https://s3-media1.fl.yelpcdn.com/bphoto/VyTsC8...</td>\n",
       "      <td>False</td>\n",
       "      <td>{'address1': '262 Harrison Ave', 'address2': '...</td>\n",
       "      <td>Chinatown Cafe</td>\n",
       "      <td>+16176959888</td>\n",
       "      <td>1</td>\n",
       "      <td>4.0</td>\n",
       "      <td>168</td>\n",
       "      <td>[]</td>\n",
       "      <td>https://www.yelp.com/biz/chinatown-cafe-boston...</td>\n",
       "    </tr>\n",
       "  </tbody>\n",
       "</table>\n",
       "</div>"
      ],
      "text/plain": [
       "                    alias                                         categories  \\\n",
       "0    hot-eastern-boston-2       [{'alias': 'szechuan', 'title': 'Szechuan'}]   \n",
       "1     q-restaurant-boston  [{'alias': 'chinese', 'title': 'Chinese'}, {'a...   \n",
       "2    clay-pot-cafe-boston     [{'alias': 'cantonese', 'title': 'Cantonese'}]   \n",
       "3  myers-and-chang-boston  [{'alias': 'asianfusion', 'title': 'Asian Fusi...   \n",
       "4   chinatown-cafe-boston         [{'alias': 'chinese', 'title': 'Chinese'}]   \n",
       "\n",
       "                                         coordinates   display_phone  \\\n",
       "0     {'latitude': 42.35161, 'longitude': -71.06095}  (617) 988-0660   \n",
       "1  {'latitude': 42.3517075922991, 'longitude': -7...  (857) 350-3968   \n",
       "2  {'latitude': 42.3504982, 'longitude': -71.0604...  (617) 357-5262   \n",
       "3  {'latitude': 42.3438187315924, 'longitude': -7...  (617) 542-5200   \n",
       "4   {'latitude': 42.3475899, 'longitude': -71.06207}  (617) 695-9888   \n",
       "\n",
       "     distance                      id  \\\n",
       "0  945.433806  6yPo1VyadJozt8KBTOhPdQ   \n",
       "1  832.975637  kb0VfKZKHHhvDze3JZqi0Q   \n",
       "2  934.491678  wOsTAvCIVjB-fPQBJepMQg   \n",
       "3  607.031423  72PQGMhrEcIuWH-S44TprA   \n",
       "4  712.949047  g3OJi94JTYhIoEwqNfhI8g   \n",
       "\n",
       "                                           image_url  is_closed  \\\n",
       "0  https://s3-media4.fl.yelpcdn.com/bphoto/w1mEf8...      False   \n",
       "1  https://s3-media1.fl.yelpcdn.com/bphoto/FtV5lG...      False   \n",
       "2  https://s3-media2.fl.yelpcdn.com/bphoto/EHXu_x...      False   \n",
       "3  https://s3-media2.fl.yelpcdn.com/bphoto/ZGXvH3...      False   \n",
       "4  https://s3-media1.fl.yelpcdn.com/bphoto/VyTsC8...      False   \n",
       "\n",
       "                                            location            name  \\\n",
       "0  {'address1': '42 Beach St', 'address2': 'Ste B...     Hot Eastern   \n",
       "1  {'address1': '660 Washington St', 'address2': ...    Q Restaurant   \n",
       "2  {'address1': '74 Kneeland St', 'address2': '',...   Clay Pot Cafe   \n",
       "3  {'address1': '1145 Washington St', 'address2':...   Myers & Chang   \n",
       "4  {'address1': '262 Harrison Ave', 'address2': '...  Chinatown Cafe   \n",
       "\n",
       "          phone  price  rating  review_count        transactions  \\\n",
       "0  +16179880660      2     4.0           217  [pickup, delivery]   \n",
       "1  +18573503968      2     4.0           939          [delivery]   \n",
       "2  +16173575262      1     4.0           273                  []   \n",
       "3  +16175425200      2     4.0          1586            [pickup]   \n",
       "4  +16176959888      1     4.0           168                  []   \n",
       "\n",
       "                                                 url  \n",
       "0  https://www.yelp.com/biz/hot-eastern-boston-2?...  \n",
       "1  https://www.yelp.com/biz/q-restaurant-boston?a...  \n",
       "2  https://www.yelp.com/biz/clay-pot-cafe-boston?...  \n",
       "3  https://www.yelp.com/biz/myers-and-chang-bosto...  \n",
       "4  https://www.yelp.com/biz/chinatown-cafe-boston...  "
      ]
     },
     "execution_count": 206,
     "metadata": {},
     "output_type": "execute_result"
    }
   ],
   "source": [
    "df.head()"
   ]
  },
  {
   "cell_type": "code",
   "execution_count": 207,
   "metadata": {
    "scrolled": true
   },
   "outputs": [
    {
     "data": {
      "text/plain": [
       "<matplotlib.axes._subplots.AxesSubplot at 0x1a2e7a7e10>"
      ]
     },
     "execution_count": 207,
     "metadata": {},
     "output_type": "execute_result"
    },
    {
     "data": {
      "image/png": "[encoded data removed]",
      "text/plain": [
       "<Figure size 864x432 with 1 Axes>"
      ]
     },
     "metadata": {
      "needs_background": "light"
     },
     "output_type": "display_data"
    }
   ],
   "source": [
    "plt.figure(figsize = (12,6))\n",
    "sns.distplot(df.rating, bins = 8)"
   ]
  },
  {
   "cell_type": "code",
   "execution_count": 154,
   "metadata": {},
   "outputs": [
    {
     "data": {
      "text/plain": [
       "<matplotlib.axes._subplots.AxesSubplot at 0x1a2ca4dc18>"
      ]
     },
     "execution_count": 154,
     "metadata": {},
     "output_type": "execute_result"
    },
    {
     "data": {
      "image/png": "[encoded data removed]",
      "text/plain": [
       "<Figure size 864x432 with 1 Axes>"
      ]
     },
     "metadata": {
      "needs_background": "light"
     },
     "output_type": "display_data"
    }
   ],
   "source": [
    "plt.figure(figsize = (12,6))\n",
    "sns.distplot(df.review_count)"
   ]
  },
  {
   "cell_type": "code",
   "execution_count": 209,
   "metadata": {},
   "outputs": [
    {
     "data": {
      "text/plain": [
       "array([[<matplotlib.axes._subplots.AxesSubplot object at 0x1a2e6022b0>,\n",
       "        <matplotlib.axes._subplots.AxesSubplot object at 0x1a2eb273c8>,\n",
       "        <matplotlib.axes._subplots.AxesSubplot object at 0x1a2ebaea20>],\n",
       "       [<matplotlib.axes._subplots.AxesSubplot object at 0x1a2ebe00b8>,\n",
       "        <matplotlib.axes._subplots.AxesSubplot object at 0x1a2ec05710>,\n",
       "        <matplotlib.axes._subplots.AxesSubplot object at 0x1a2ec2cd68>],\n",
       "       [<matplotlib.axes._subplots.AxesSubplot object at 0x1a2ec5c400>,\n",
       "        <matplotlib.axes._subplots.AxesSubplot object at 0x1a2ec82a90>,\n",
       "        <matplotlib.axes._subplots.AxesSubplot object at 0x1a2ec82ac8>]],\n",
       "      dtype=object)"
      ]
     },
     "execution_count": 209,
     "metadata": {},
     "output_type": "execute_result"
    },
    {
     "data": {
      "image/png": "[encoded data removed]",
      "text/plain": [
       "<Figure size 432x288 with 9 Axes>"
      ]
     },
     "metadata": {
      "needs_background": "light"
     },
     "output_type": "display_data"
    }
   ],
   "source": [
    "pd.plotting.scatter_matrix(df[['rating', 'review_count','price']])"
   ]
  },
  {
   "cell_type": "code",
   "execution_count": null,
   "metadata": {},
   "outputs": [],
   "source": []
  }
 ],
 "metadata": {
  "kernelspec": {
   "display_name": "Python 3",
   "language": "python",
   "name": "python3"
  },
  "language_info": {
   "codemirror_mode": {
    "name": "ipython",
    "version": 3
   },
   "file_extension": ".py",
   "mimetype": "text/x-python",
   "name": "python",
   "nbconvert_exporter": "python",
   "pygments_lexer": "ipython3",
   "version": "3.7.3"
  }
 },
 "nbformat": 4,
 "nbformat_minor": 2
}
